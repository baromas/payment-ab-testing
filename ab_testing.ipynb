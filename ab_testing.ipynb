{
  "cells": [
    {
      "cell_type": "markdown",
      "metadata": {
        "id": "view-in-github",
        "colab_type": "text"
      },
      "source": [
        "<a href=\"https://colab.research.google.com/github/baromas/payment-ab-testing/blob/main/ab_testing.ipynb\" target=\"_parent\"><img src=\"https://colab.research.google.com/assets/colab-badge.svg\" alt=\"Open In Colab\"/></a>"
      ]
    },
    {
      "cell_type": "markdown",
      "metadata": {
        "id": "Kanux857qNWF"
      },
      "source": [
        "###  1. A/B–тестирование"
      ]
    },
    {
      "cell_type": "markdown",
      "metadata": {
        "id": "dt-hMmFdqNWM"
      },
      "source": [
        "В ходе тестирования одной гипотезы целевой группе была предложена новая механика оплаты услуг на сайте, у контрольной группы оставалась базовая механика. Необходимо проанализировать итоги эксперимента и сделать вывод, стоит ли запускать новую механику оплаты на всех пользователей."
      ]
    },
    {
      "cell_type": "code",
      "execution_count": null,
      "metadata": {
        "id": "XMmDz2s4qNWN"
      },
      "outputs": [],
      "source": [
        "import pandas as pd\n",
        "import numpy as np\n",
        "import matplotlib.pyplot as plt\n",
        "import seaborn as sns\n",
        "from scipy.stats import norm\n",
        "from tqdm.auto import tqdm\n",
        "import requests\n",
        "from urllib.parse import urlencode\n",
        "%matplotlib inline"
      ]
    },
    {
      "cell_type": "code",
      "execution_count": null,
      "metadata": {
        "id": "ObHQGUU-qNWO"
      },
      "outputs": [],
      "source": [
        "active_studs_pk = 'https://disk.yandex.ru/d/WS_JsuTI91Uzlw'\n",
        "checks_pk = 'https://disk.yandex.ru/d/Qa5pxehNl-mWyw'\n",
        "groups_pk = 'https://disk.yandex.ru/d/jk_gCkeu1M1iIw'\n",
        "groups_add_pk = 'https://disk.yandex.ru/d/l2YecxlwrKj-fQ'\n",
        "\n",
        "def get_yandex_download_url(public_key):\n",
        "    base_url = 'https://cloud-api.yandex.net/v1/disk/public/resources/download?'\n",
        "    final_url = base_url + urlencode(dict(public_key=public_key))\n",
        "    response = requests.get(final_url)\n",
        "    download_url = response.json()['href']\n",
        "    return download_url\n",
        "\n",
        "active_studs = pd.read_csv(get_yandex_download_url(active_studs_pk))\n",
        "checks = pd.read_csv(get_yandex_download_url(checks_pk), sep = ';')\n",
        "groups = pd.read_csv(get_yandex_download_url(groups_pk), sep = ';')\n",
        "groups_add = pd.read_csv(get_yandex_download_url(groups_pk), sep = ';')"
      ]
    },
    {
      "cell_type": "markdown",
      "metadata": {
        "id": "kmbLU4BUqNWO"
      },
      "source": [
        "Посмотрим на входные данные"
      ]
    },
    {
      "cell_type": "markdown",
      "metadata": {
        "id": "CB_bTqdrqNWO"
      },
      "source": [
        "***Таблица groups***"
      ]
    },
    {
      "cell_type": "code",
      "execution_count": null,
      "metadata": {
        "id": "yUFHHOw_qNWP",
        "outputId": "e4c46d35-f0a1-4451-b651-0d43cd8a75d7"
      },
      "outputs": [
        {
          "data": {
            "text/html": [
              "<div>\n",
              "<style scoped>\n",
              "    .dataframe tbody tr th:only-of-type {\n",
              "        vertical-align: middle;\n",
              "    }\n",
              "\n",
              "    .dataframe tbody tr th {\n",
              "        vertical-align: top;\n",
              "    }\n",
              "\n",
              "    .dataframe thead th {\n",
              "        text-align: right;\n",
              "    }\n",
              "</style>\n",
              "<table border=\"1\" class=\"dataframe\">\n",
              "  <thead>\n",
              "    <tr style=\"text-align: right;\">\n",
              "      <th></th>\n",
              "      <th>id</th>\n",
              "      <th>grp</th>\n",
              "    </tr>\n",
              "  </thead>\n",
              "  <tbody>\n",
              "    <tr>\n",
              "      <th>0</th>\n",
              "      <td>1489</td>\n",
              "      <td>B</td>\n",
              "    </tr>\n",
              "    <tr>\n",
              "      <th>1</th>\n",
              "      <td>1627</td>\n",
              "      <td>A</td>\n",
              "    </tr>\n",
              "    <tr>\n",
              "      <th>2</th>\n",
              "      <td>1768</td>\n",
              "      <td>B</td>\n",
              "    </tr>\n",
              "    <tr>\n",
              "      <th>3</th>\n",
              "      <td>1783</td>\n",
              "      <td>B</td>\n",
              "    </tr>\n",
              "    <tr>\n",
              "      <th>4</th>\n",
              "      <td>1794</td>\n",
              "      <td>A</td>\n",
              "    </tr>\n",
              "  </tbody>\n",
              "</table>\n",
              "</div>"
            ],
            "text/plain": [
              "     id grp\n",
              "0  1489   B\n",
              "1  1627   A\n",
              "2  1768   B\n",
              "3  1783   B\n",
              "4  1794   A"
            ]
          },
          "execution_count": 17,
          "metadata": {},
          "output_type": "execute_result"
        }
      ],
      "source": [
        "groups.head()"
      ]
    },
    {
      "cell_type": "code",
      "execution_count": null,
      "metadata": {
        "id": "SSWfdaOmqNWP",
        "outputId": "050c16a7-a53b-46f6-8e51-bffabe125769"
      },
      "outputs": [
        {
          "data": {
            "text/plain": [
              "(74484, 2)"
            ]
          },
          "execution_count": 18,
          "metadata": {},
          "output_type": "execute_result"
        }
      ],
      "source": [
        "groups.shape"
      ]
    },
    {
      "cell_type": "code",
      "execution_count": null,
      "metadata": {
        "id": "8LnMi1GhqNWP",
        "outputId": "bde0604a-2acb-4116-b688-232aad177cb1"
      },
      "outputs": [
        {
          "data": {
            "text/plain": [
              "id     0\n",
              "grp    0\n",
              "dtype: int64"
            ]
          },
          "execution_count": 19,
          "metadata": {},
          "output_type": "execute_result"
        }
      ],
      "source": [
        "groups.isna().sum()"
      ]
    },
    {
      "cell_type": "code",
      "execution_count": null,
      "metadata": {
        "id": "cRiRmK6sqNWP",
        "outputId": "9bd381b9-7aa0-4f30-d623-4e77e2adf547"
      },
      "outputs": [
        {
          "data": {
            "text/plain": [
              "grp\n",
              "B    59813\n",
              "A    14671\n",
              "Name: count, dtype: int64"
            ]
          },
          "execution_count": 20,
          "metadata": {},
          "output_type": "execute_result"
        }
      ],
      "source": [
        "groups.grp.value_counts()"
      ]
    },
    {
      "cell_type": "code",
      "execution_count": null,
      "metadata": {
        "id": "3BrEaISTqNWQ",
        "outputId": "05e16af7-142c-419f-82dd-e0c0e1c2037b"
      },
      "outputs": [
        {
          "data": {
            "text/plain": [
              "74484"
            ]
          },
          "execution_count": 21,
          "metadata": {},
          "output_type": "execute_result"
        }
      ],
      "source": [
        "groups.id.nunique()"
      ]
    },
    {
      "cell_type": "markdown",
      "metadata": {
        "id": "3Pvzg_zNqNWQ"
      },
      "source": [
        "***Таблица groups_add***"
      ]
    },
    {
      "cell_type": "code",
      "execution_count": null,
      "metadata": {
        "id": "Kq7yzAviqNWQ",
        "outputId": "f800c744-a40d-45b1-e4a5-b382f9288d94"
      },
      "outputs": [
        {
          "data": {
            "text/html": [
              "<div>\n",
              "<style scoped>\n",
              "    .dataframe tbody tr th:only-of-type {\n",
              "        vertical-align: middle;\n",
              "    }\n",
              "\n",
              "    .dataframe tbody tr th {\n",
              "        vertical-align: top;\n",
              "    }\n",
              "\n",
              "    .dataframe thead th {\n",
              "        text-align: right;\n",
              "    }\n",
              "</style>\n",
              "<table border=\"1\" class=\"dataframe\">\n",
              "  <thead>\n",
              "    <tr style=\"text-align: right;\">\n",
              "      <th></th>\n",
              "      <th>id</th>\n",
              "      <th>grp</th>\n",
              "    </tr>\n",
              "  </thead>\n",
              "  <tbody>\n",
              "    <tr>\n",
              "      <th>0</th>\n",
              "      <td>1489</td>\n",
              "      <td>B</td>\n",
              "    </tr>\n",
              "    <tr>\n",
              "      <th>1</th>\n",
              "      <td>1627</td>\n",
              "      <td>A</td>\n",
              "    </tr>\n",
              "    <tr>\n",
              "      <th>2</th>\n",
              "      <td>1768</td>\n",
              "      <td>B</td>\n",
              "    </tr>\n",
              "    <tr>\n",
              "      <th>3</th>\n",
              "      <td>1783</td>\n",
              "      <td>B</td>\n",
              "    </tr>\n",
              "    <tr>\n",
              "      <th>4</th>\n",
              "      <td>1794</td>\n",
              "      <td>A</td>\n",
              "    </tr>\n",
              "  </tbody>\n",
              "</table>\n",
              "</div>"
            ],
            "text/plain": [
              "     id grp\n",
              "0  1489   B\n",
              "1  1627   A\n",
              "2  1768   B\n",
              "3  1783   B\n",
              "4  1794   A"
            ]
          },
          "execution_count": 22,
          "metadata": {},
          "output_type": "execute_result"
        }
      ],
      "source": [
        "groups_add.head()"
      ]
    },
    {
      "cell_type": "code",
      "execution_count": null,
      "metadata": {
        "id": "q7w8z7wDqNWQ",
        "outputId": "6498b913-2ca3-43d5-f14e-ff1cd4481d55"
      },
      "outputs": [
        {
          "data": {
            "text/plain": [
              "id      int64\n",
              "grp    object\n",
              "dtype: object"
            ]
          },
          "execution_count": 23,
          "metadata": {},
          "output_type": "execute_result"
        }
      ],
      "source": [
        "groups_add.dtypes"
      ]
    },
    {
      "cell_type": "code",
      "execution_count": null,
      "metadata": {
        "id": "SQinmG46qNWQ",
        "outputId": "dce64759-4aad-4061-a8f2-b36c2c37621f"
      },
      "outputs": [
        {
          "data": {
            "text/plain": [
              "(74484, 2)"
            ]
          },
          "execution_count": 24,
          "metadata": {},
          "output_type": "execute_result"
        }
      ],
      "source": [
        "groups_add.shape"
      ]
    },
    {
      "cell_type": "code",
      "execution_count": null,
      "metadata": {
        "id": "JAFsY3_7qNWQ",
        "outputId": "9d6ba27f-c705-4fa2-fbbd-5369ed1642ab"
      },
      "outputs": [
        {
          "data": {
            "text/plain": [
              "grp\n",
              "B    59813\n",
              "A    14671\n",
              "Name: count, dtype: int64"
            ]
          },
          "execution_count": 25,
          "metadata": {},
          "output_type": "execute_result"
        }
      ],
      "source": [
        "groups_add.grp.value_counts()"
      ]
    },
    {
      "cell_type": "code",
      "execution_count": null,
      "metadata": {
        "id": "NDYeSFFqqNWQ",
        "outputId": "a8a72442-6c6c-47af-d05f-c7ee2fe28435"
      },
      "outputs": [
        {
          "data": {
            "text/plain": [
              "74484"
            ]
          },
          "execution_count": 26,
          "metadata": {},
          "output_type": "execute_result"
        }
      ],
      "source": [
        "groups_add.id.nunique()"
      ]
    },
    {
      "cell_type": "markdown",
      "metadata": {
        "id": "IhSB3YslqNWR"
      },
      "source": [
        "***Таблица active_studs***"
      ]
    },
    {
      "cell_type": "code",
      "execution_count": null,
      "metadata": {
        "id": "OFtqUpXlqNWR",
        "outputId": "46adabcc-9d33-4415-e3b9-c37aa78b52a4"
      },
      "outputs": [
        {
          "data": {
            "text/html": [
              "<div>\n",
              "<style scoped>\n",
              "    .dataframe tbody tr th:only-of-type {\n",
              "        vertical-align: middle;\n",
              "    }\n",
              "\n",
              "    .dataframe tbody tr th {\n",
              "        vertical-align: top;\n",
              "    }\n",
              "\n",
              "    .dataframe thead th {\n",
              "        text-align: right;\n",
              "    }\n",
              "</style>\n",
              "<table border=\"1\" class=\"dataframe\">\n",
              "  <thead>\n",
              "    <tr style=\"text-align: right;\">\n",
              "      <th></th>\n",
              "      <th>student_id</th>\n",
              "    </tr>\n",
              "  </thead>\n",
              "  <tbody>\n",
              "    <tr>\n",
              "      <th>0</th>\n",
              "      <td>581585</td>\n",
              "    </tr>\n",
              "    <tr>\n",
              "      <th>1</th>\n",
              "      <td>5723133</td>\n",
              "    </tr>\n",
              "    <tr>\n",
              "      <th>2</th>\n",
              "      <td>3276743</td>\n",
              "    </tr>\n",
              "    <tr>\n",
              "      <th>3</th>\n",
              "      <td>4238589</td>\n",
              "    </tr>\n",
              "    <tr>\n",
              "      <th>4</th>\n",
              "      <td>4475369</td>\n",
              "    </tr>\n",
              "  </tbody>\n",
              "</table>\n",
              "</div>"
            ],
            "text/plain": [
              "   student_id\n",
              "0      581585\n",
              "1     5723133\n",
              "2     3276743\n",
              "3     4238589\n",
              "4     4475369"
            ]
          },
          "execution_count": 27,
          "metadata": {},
          "output_type": "execute_result"
        }
      ],
      "source": [
        "active_studs.head()"
      ]
    },
    {
      "cell_type": "code",
      "execution_count": null,
      "metadata": {
        "id": "ndWAgx84qNWR",
        "outputId": "59528d24-d549-4d0c-9265-0156d96b637b"
      },
      "outputs": [
        {
          "data": {
            "text/plain": [
              "student_id    int64\n",
              "dtype: object"
            ]
          },
          "execution_count": 28,
          "metadata": {},
          "output_type": "execute_result"
        }
      ],
      "source": [
        "active_studs.dtypes"
      ]
    },
    {
      "cell_type": "code",
      "execution_count": null,
      "metadata": {
        "id": "0jdY_uztqNWR",
        "outputId": "d09fd91a-cf77-466a-8293-5f5f453b87dc"
      },
      "outputs": [
        {
          "data": {
            "text/plain": [
              "(8341, 1)"
            ]
          },
          "execution_count": 29,
          "metadata": {},
          "output_type": "execute_result"
        }
      ],
      "source": [
        "active_studs.shape"
      ]
    },
    {
      "cell_type": "code",
      "execution_count": null,
      "metadata": {
        "scrolled": true,
        "id": "Mzr9weyxqNWR",
        "outputId": "01d4d12b-b8a0-4b04-df9d-7a7b148fa2ef"
      },
      "outputs": [
        {
          "data": {
            "text/plain": [
              "student_id    8341\n",
              "dtype: int64"
            ]
          },
          "execution_count": 30,
          "metadata": {},
          "output_type": "execute_result"
        }
      ],
      "source": [
        "active_studs.nunique()"
      ]
    },
    {
      "cell_type": "code",
      "execution_count": null,
      "metadata": {
        "id": "-BInUgbxqNWR",
        "outputId": "26ca4018-e1aa-49b6-d96a-66fa46ca907c"
      },
      "outputs": [
        {
          "data": {
            "text/plain": [
              "student_id    0\n",
              "dtype: int64"
            ]
          },
          "execution_count": 31,
          "metadata": {},
          "output_type": "execute_result"
        }
      ],
      "source": [
        "active_studs.isna().sum()"
      ]
    },
    {
      "cell_type": "markdown",
      "metadata": {
        "id": "6qC7Y_BGqNWR"
      },
      "source": [
        "***Таблица checks***"
      ]
    },
    {
      "cell_type": "code",
      "execution_count": null,
      "metadata": {
        "id": "_6aZy7eZqNWR",
        "outputId": "5bcb2b69-a4b2-4629-a206-95cbf48a5dbb"
      },
      "outputs": [
        {
          "data": {
            "text/html": [
              "<div>\n",
              "<style scoped>\n",
              "    .dataframe tbody tr th:only-of-type {\n",
              "        vertical-align: middle;\n",
              "    }\n",
              "\n",
              "    .dataframe tbody tr th {\n",
              "        vertical-align: top;\n",
              "    }\n",
              "\n",
              "    .dataframe thead th {\n",
              "        text-align: right;\n",
              "    }\n",
              "</style>\n",
              "<table border=\"1\" class=\"dataframe\">\n",
              "  <thead>\n",
              "    <tr style=\"text-align: right;\">\n",
              "      <th></th>\n",
              "      <th>student_id</th>\n",
              "      <th>rev</th>\n",
              "    </tr>\n",
              "  </thead>\n",
              "  <tbody>\n",
              "    <tr>\n",
              "      <th>0</th>\n",
              "      <td>1627</td>\n",
              "      <td>990.0</td>\n",
              "    </tr>\n",
              "    <tr>\n",
              "      <th>1</th>\n",
              "      <td>3185</td>\n",
              "      <td>690.0</td>\n",
              "    </tr>\n",
              "    <tr>\n",
              "      <th>2</th>\n",
              "      <td>25973</td>\n",
              "      <td>690.0</td>\n",
              "    </tr>\n",
              "    <tr>\n",
              "      <th>3</th>\n",
              "      <td>26280</td>\n",
              "      <td>690.0</td>\n",
              "    </tr>\n",
              "    <tr>\n",
              "      <th>4</th>\n",
              "      <td>100300</td>\n",
              "      <td>990.0</td>\n",
              "    </tr>\n",
              "  </tbody>\n",
              "</table>\n",
              "</div>"
            ],
            "text/plain": [
              "   student_id    rev\n",
              "0        1627  990.0\n",
              "1        3185  690.0\n",
              "2       25973  690.0\n",
              "3       26280  690.0\n",
              "4      100300  990.0"
            ]
          },
          "execution_count": 32,
          "metadata": {},
          "output_type": "execute_result"
        }
      ],
      "source": [
        "checks.head()"
      ]
    },
    {
      "cell_type": "code",
      "execution_count": null,
      "metadata": {
        "id": "s0BQJC96qNWS",
        "outputId": "9bc318d6-b8c1-4c7e-b2ff-3564e65d939c"
      },
      "outputs": [
        {
          "data": {
            "text/plain": [
              "student_id      int64\n",
              "rev           float64\n",
              "dtype: object"
            ]
          },
          "execution_count": 33,
          "metadata": {},
          "output_type": "execute_result"
        }
      ],
      "source": [
        "checks.dtypes"
      ]
    },
    {
      "cell_type": "code",
      "execution_count": null,
      "metadata": {
        "id": "cDn9RnPLqNWS",
        "outputId": "9703d4fe-014c-4f6f-8c95-a24514ca7618"
      },
      "outputs": [
        {
          "data": {
            "text/plain": [
              "(541, 2)"
            ]
          },
          "execution_count": 34,
          "metadata": {},
          "output_type": "execute_result"
        }
      ],
      "source": [
        "checks.shape"
      ]
    },
    {
      "cell_type": "code",
      "execution_count": null,
      "metadata": {
        "id": "6tCasR-yqNWS",
        "outputId": "9ddbe157-2bfe-4636-bfc7-5b69bb617c2e"
      },
      "outputs": [
        {
          "data": {
            "text/plain": [
              "student_id    0\n",
              "rev           0\n",
              "dtype: int64"
            ]
          },
          "execution_count": 35,
          "metadata": {},
          "output_type": "execute_result"
        }
      ],
      "source": [
        "checks.isna().sum()"
      ]
    },
    {
      "cell_type": "code",
      "execution_count": null,
      "metadata": {
        "id": "Yx4flxNMqNWS",
        "outputId": "1be2e282-7ab2-4c38-d201-c83bd22dc283"
      },
      "outputs": [
        {
          "data": {
            "text/plain": [
              "541"
            ]
          },
          "execution_count": 36,
          "metadata": {},
          "output_type": "execute_result"
        }
      ],
      "source": [
        "checks.student_id.nunique()"
      ]
    },
    {
      "cell_type": "markdown",
      "metadata": {
        "id": "KuBSVgIcqNWS"
      },
      "source": [
        "Соединю дополнительный файл groups_add с groups и посмотрю на распределение пользователей по группам"
      ]
    },
    {
      "cell_type": "code",
      "execution_count": null,
      "metadata": {
        "id": "O9oDp4PCqNWS",
        "outputId": "2d91d1fc-53d2-45a8-9895-4c2eb9a02ab7"
      },
      "outputs": [
        {
          "data": {
            "text/html": [
              "<div>\n",
              "<style scoped>\n",
              "    .dataframe tbody tr th:only-of-type {\n",
              "        vertical-align: middle;\n",
              "    }\n",
              "\n",
              "    .dataframe tbody tr th {\n",
              "        vertical-align: top;\n",
              "    }\n",
              "\n",
              "    .dataframe thead th {\n",
              "        text-align: right;\n",
              "    }\n",
              "</style>\n",
              "<table border=\"1\" class=\"dataframe\">\n",
              "  <thead>\n",
              "    <tr style=\"text-align: right;\">\n",
              "      <th></th>\n",
              "      <th>id</th>\n",
              "      <th>grp</th>\n",
              "    </tr>\n",
              "  </thead>\n",
              "  <tbody>\n",
              "    <tr>\n",
              "      <th>0</th>\n",
              "      <td>1489</td>\n",
              "      <td>B</td>\n",
              "    </tr>\n",
              "    <tr>\n",
              "      <th>1</th>\n",
              "      <td>1627</td>\n",
              "      <td>A</td>\n",
              "    </tr>\n",
              "    <tr>\n",
              "      <th>2</th>\n",
              "      <td>1768</td>\n",
              "      <td>B</td>\n",
              "    </tr>\n",
              "    <tr>\n",
              "      <th>3</th>\n",
              "      <td>1783</td>\n",
              "      <td>B</td>\n",
              "    </tr>\n",
              "    <tr>\n",
              "      <th>4</th>\n",
              "      <td>1794</td>\n",
              "      <td>A</td>\n",
              "    </tr>\n",
              "    <tr>\n",
              "      <th>...</th>\n",
              "      <td>...</td>\n",
              "      <td>...</td>\n",
              "    </tr>\n",
              "    <tr>\n",
              "      <th>74479</th>\n",
              "      <td>5692459</td>\n",
              "      <td>B</td>\n",
              "    </tr>\n",
              "    <tr>\n",
              "      <th>74480</th>\n",
              "      <td>5692572</td>\n",
              "      <td>B</td>\n",
              "    </tr>\n",
              "    <tr>\n",
              "      <th>74481</th>\n",
              "      <td>5692865</td>\n",
              "      <td>B</td>\n",
              "    </tr>\n",
              "    <tr>\n",
              "      <th>74482</th>\n",
              "      <td>5693667</td>\n",
              "      <td>B</td>\n",
              "    </tr>\n",
              "    <tr>\n",
              "      <th>74483</th>\n",
              "      <td>5694419</td>\n",
              "      <td>B</td>\n",
              "    </tr>\n",
              "  </tbody>\n",
              "</table>\n",
              "<p>148968 rows × 2 columns</p>\n",
              "</div>"
            ],
            "text/plain": [
              "            id grp\n",
              "0         1489   B\n",
              "1         1627   A\n",
              "2         1768   B\n",
              "3         1783   B\n",
              "4         1794   A\n",
              "...        ...  ..\n",
              "74479  5692459   B\n",
              "74480  5692572   B\n",
              "74481  5692865   B\n",
              "74482  5693667   B\n",
              "74483  5694419   B\n",
              "\n",
              "[148968 rows x 2 columns]"
            ]
          },
          "execution_count": 37,
          "metadata": {},
          "output_type": "execute_result"
        }
      ],
      "source": [
        "groups_all = pd.concat([groups, groups_add])\n",
        "groups_all"
      ]
    },
    {
      "cell_type": "code",
      "execution_count": null,
      "metadata": {
        "id": "cUYlClC6qNWS",
        "outputId": "1f6ea4ab-b928-42c9-e0f2-8c06d7bd5d8c"
      },
      "outputs": [
        {
          "data": {
            "text/plain": [
              "grp\n",
              "B    119626\n",
              "A     29342\n",
              "Name: count, dtype: int64"
            ]
          },
          "execution_count": 38,
          "metadata": {},
          "output_type": "execute_result"
        }
      ],
      "source": [
        "groups_all.grp.value_counts()"
      ]
    },
    {
      "cell_type": "markdown",
      "metadata": {
        "id": "z-It5M2RqNWT"
      },
      "source": [
        "Таким образом, у нас всего 74576 пользователей и распределение по группам явно неравномерное.\\\n",
        "Проверим все ли пользователи заходили в приложение и совершали оплату, так как посещение сайта является условием для использования новой механики оплаты."
      ]
    },
    {
      "cell_type": "code",
      "execution_count": null,
      "metadata": {
        "id": "1ccpi_5sqNWT",
        "outputId": "2fd78657-bd76-4629-b921-d6ee76d51736"
      },
      "outputs": [
        {
          "name": "stdout",
          "output_type": "stream",
          "text": [
            "Количество пользователей из списка активных, но не вошедших в общий список: 13 \n",
            "Количество оплативших пользователей, отсутствующих в общем списке: 1 \n",
            "Количество оплативших пользователей, отсутствующих в списке активных в дни проведения теста: 149\n"
          ]
        }
      ],
      "source": [
        "print('Количество пользователей из списка активных, но не вошедших в общий список:',\n",
        "     active_studs.query(\"student_id not in @groups_all.id\").shape[0],\n",
        "     '\\nКоличество оплативших пользователей, отсутствующих в общем списке:',\n",
        "     checks.query(\"student_id not in @groups_all.id\").shape[0],\n",
        "     '\\nКоличество оплативших пользователей, отсутствующих в списке активных в дни проведения теста:',\n",
        "     checks.query('student_id not in @active_studs.student_id').shape[0])"
      ]
    },
    {
      "cell_type": "markdown",
      "metadata": {
        "id": "y83EkGKhqNWT"
      },
      "source": [
        "Видим, что в период проведения экспериментов были оплаты и от тех студентов (149), которые не посещали платформу. Возможно, это автоматические оплаты или сбой в системе. \\\n",
        "Посмотрим на распределение групп в checks и active_studs:"
      ]
    },
    {
      "cell_type": "code",
      "execution_count": null,
      "metadata": {
        "id": "tlQMFjfGqNWT",
        "outputId": "f2924207-a5ee-45a1-8991-8d5affa08a06"
      },
      "outputs": [
        {
          "data": {
            "text/plain": [
              "grp\n",
              "B    13586\n",
              "A     3070\n",
              "Name: count, dtype: int64"
            ]
          },
          "execution_count": 40,
          "metadata": {},
          "output_type": "execute_result"
        }
      ],
      "source": [
        "groups_all.query(\"id in @active_studs.student_id\").grp.value_counts()"
      ]
    },
    {
      "cell_type": "code",
      "execution_count": null,
      "metadata": {
        "id": "qP8k8QQgqNWU",
        "outputId": "3df34184-a23e-414f-c42f-122dba2b156f"
      },
      "outputs": [
        {
          "data": {
            "text/plain": [
              "grp\n",
              "B    866\n",
              "A    214\n",
              "Name: count, dtype: int64"
            ]
          },
          "execution_count": 41,
          "metadata": {},
          "output_type": "execute_result"
        }
      ],
      "source": [
        "groups_all.query(\"id in @checks.student_id\").grp.value_counts()"
      ]
    },
    {
      "cell_type": "code",
      "execution_count": null,
      "metadata": {
        "id": "S8b4Ne18qNWU",
        "outputId": "3b9de264-8b2f-436d-a09a-279e7c9ef927"
      },
      "outputs": [
        {
          "data": {
            "text/plain": [
              "grp\n",
              "B    626\n",
              "A    156\n",
              "Name: count, dtype: int64"
            ]
          },
          "execution_count": 42,
          "metadata": {},
          "output_type": "execute_result"
        }
      ],
      "source": [
        "groups_all.query(\"id in @active_studs.student_id & id in @checks.student_id\").grp.value_counts()"
      ]
    },
    {
      "cell_type": "markdown",
      "metadata": {
        "id": "SuLaiuU2qNWU"
      },
      "source": [
        "#### Промежуточный вывод\n",
        "* Пользователи распределены по группам неравномерно. Группа B значительно больше, чем группа А.\n",
        "* У нас 74576 пользователей, из них 8341 являются активными, 541 совершили оплату. Из общего количества совершивших оплату (541), 392 являются активными - оплатившими. Не ясно, это сбой системы или автоматические платежи , поэтому не стану включать этих пользователей в AB-тест."
      ]
    },
    {
      "cell_type": "markdown",
      "metadata": {
        "id": "SLmNrX5uqNWV"
      },
      "source": [
        "Я буду проверять гипотезы на активных и совершивших оплату пользователей, так как нецелесообразно проверять гипотезы эксперимента на пользователях, которые были отобраны, но в нем не участвовали\n",
        "#### Объединим все таблицы в один df и отфильтруем пользователей для AB-теста"
      ]
    },
    {
      "cell_type": "code",
      "execution_count": null,
      "metadata": {
        "id": "aVy-5vVLqNWV",
        "outputId": "af665587-aa88-45ba-94bf-e4602fedb9f7"
      },
      "outputs": [
        {
          "data": {
            "text/html": [
              "<div>\n",
              "<style scoped>\n",
              "    .dataframe tbody tr th:only-of-type {\n",
              "        vertical-align: middle;\n",
              "    }\n",
              "\n",
              "    .dataframe tbody tr th {\n",
              "        vertical-align: top;\n",
              "    }\n",
              "\n",
              "    .dataframe thead th {\n",
              "        text-align: right;\n",
              "    }\n",
              "</style>\n",
              "<table border=\"1\" class=\"dataframe\">\n",
              "  <thead>\n",
              "    <tr style=\"text-align: right;\">\n",
              "      <th></th>\n",
              "      <th>id</th>\n",
              "      <th>rev</th>\n",
              "    </tr>\n",
              "  </thead>\n",
              "  <tbody>\n",
              "    <tr>\n",
              "      <th>0</th>\n",
              "      <td>581585</td>\n",
              "      <td>NaN</td>\n",
              "    </tr>\n",
              "    <tr>\n",
              "      <th>1</th>\n",
              "      <td>5723133</td>\n",
              "      <td>NaN</td>\n",
              "    </tr>\n",
              "    <tr>\n",
              "      <th>2</th>\n",
              "      <td>3276743</td>\n",
              "      <td>NaN</td>\n",
              "    </tr>\n",
              "    <tr>\n",
              "      <th>3</th>\n",
              "      <td>4238589</td>\n",
              "      <td>NaN</td>\n",
              "    </tr>\n",
              "    <tr>\n",
              "      <th>4</th>\n",
              "      <td>4475369</td>\n",
              "      <td>NaN</td>\n",
              "    </tr>\n",
              "    <tr>\n",
              "      <th>...</th>\n",
              "      <td>...</td>\n",
              "      <td>...</td>\n",
              "    </tr>\n",
              "    <tr>\n",
              "      <th>8336</th>\n",
              "      <td>1794344</td>\n",
              "      <td>NaN</td>\n",
              "    </tr>\n",
              "    <tr>\n",
              "      <th>8337</th>\n",
              "      <td>296883</td>\n",
              "      <td>NaN</td>\n",
              "    </tr>\n",
              "    <tr>\n",
              "      <th>8338</th>\n",
              "      <td>3598448</td>\n",
              "      <td>NaN</td>\n",
              "    </tr>\n",
              "    <tr>\n",
              "      <th>8339</th>\n",
              "      <td>3610547</td>\n",
              "      <td>290.0</td>\n",
              "    </tr>\n",
              "    <tr>\n",
              "      <th>8340</th>\n",
              "      <td>205705</td>\n",
              "      <td>NaN</td>\n",
              "    </tr>\n",
              "  </tbody>\n",
              "</table>\n",
              "<p>8341 rows × 2 columns</p>\n",
              "</div>"
            ],
            "text/plain": [
              "           id    rev\n",
              "0      581585    NaN\n",
              "1     5723133    NaN\n",
              "2     3276743    NaN\n",
              "3     4238589    NaN\n",
              "4     4475369    NaN\n",
              "...       ...    ...\n",
              "8336  1794344    NaN\n",
              "8337   296883    NaN\n",
              "8338  3598448    NaN\n",
              "8339  3610547  290.0\n",
              "8340   205705    NaN\n",
              "\n",
              "[8341 rows x 2 columns]"
            ]
          },
          "execution_count": 43,
          "metadata": {},
          "output_type": "execute_result"
        }
      ],
      "source": [
        "active_checks = active_studs.merge(checks, how = 'left', on = 'student_id')\n",
        "active_checks.rename(columns = {\"student_id\" : 'id'}, inplace = True)\n",
        "active_checks.query(\"rev.notna()\")\n",
        "active_checks"
      ]
    },
    {
      "cell_type": "code",
      "execution_count": null,
      "metadata": {
        "id": "gzt-YKJ2qNWV",
        "outputId": "e46a9904-5665-4869-f6c3-6c274193367a"
      },
      "outputs": [
        {
          "data": {
            "text/html": [
              "<div>\n",
              "<style scoped>\n",
              "    .dataframe tbody tr th:only-of-type {\n",
              "        vertical-align: middle;\n",
              "    }\n",
              "\n",
              "    .dataframe tbody tr th {\n",
              "        vertical-align: top;\n",
              "    }\n",
              "\n",
              "    .dataframe thead th {\n",
              "        text-align: right;\n",
              "    }\n",
              "</style>\n",
              "<table border=\"1\" class=\"dataframe\">\n",
              "  <thead>\n",
              "    <tr style=\"text-align: right;\">\n",
              "      <th></th>\n",
              "      <th>id</th>\n",
              "      <th>rev</th>\n",
              "      <th>grp</th>\n",
              "      <th>payment</th>\n",
              "    </tr>\n",
              "  </thead>\n",
              "  <tbody>\n",
              "    <tr>\n",
              "      <th>0</th>\n",
              "      <td>581585</td>\n",
              "      <td>0.0</td>\n",
              "      <td>A</td>\n",
              "      <td>0</td>\n",
              "    </tr>\n",
              "    <tr>\n",
              "      <th>1</th>\n",
              "      <td>581585</td>\n",
              "      <td>0.0</td>\n",
              "      <td>A</td>\n",
              "      <td>0</td>\n",
              "    </tr>\n",
              "    <tr>\n",
              "      <th>2</th>\n",
              "      <td>5723133</td>\n",
              "      <td>0.0</td>\n",
              "      <td>NaN</td>\n",
              "      <td>0</td>\n",
              "    </tr>\n",
              "    <tr>\n",
              "      <th>3</th>\n",
              "      <td>3276743</td>\n",
              "      <td>0.0</td>\n",
              "      <td>B</td>\n",
              "      <td>0</td>\n",
              "    </tr>\n",
              "    <tr>\n",
              "      <th>4</th>\n",
              "      <td>3276743</td>\n",
              "      <td>0.0</td>\n",
              "      <td>B</td>\n",
              "      <td>0</td>\n",
              "    </tr>\n",
              "    <tr>\n",
              "      <th>...</th>\n",
              "      <td>...</td>\n",
              "      <td>...</td>\n",
              "      <td>...</td>\n",
              "      <td>...</td>\n",
              "    </tr>\n",
              "    <tr>\n",
              "      <th>16664</th>\n",
              "      <td>3598448</td>\n",
              "      <td>0.0</td>\n",
              "      <td>B</td>\n",
              "      <td>0</td>\n",
              "    </tr>\n",
              "    <tr>\n",
              "      <th>16665</th>\n",
              "      <td>3610547</td>\n",
              "      <td>290.0</td>\n",
              "      <td>B</td>\n",
              "      <td>1</td>\n",
              "    </tr>\n",
              "    <tr>\n",
              "      <th>16666</th>\n",
              "      <td>3610547</td>\n",
              "      <td>290.0</td>\n",
              "      <td>B</td>\n",
              "      <td>1</td>\n",
              "    </tr>\n",
              "    <tr>\n",
              "      <th>16667</th>\n",
              "      <td>205705</td>\n",
              "      <td>0.0</td>\n",
              "      <td>B</td>\n",
              "      <td>0</td>\n",
              "    </tr>\n",
              "    <tr>\n",
              "      <th>16668</th>\n",
              "      <td>205705</td>\n",
              "      <td>0.0</td>\n",
              "      <td>B</td>\n",
              "      <td>0</td>\n",
              "    </tr>\n",
              "  </tbody>\n",
              "</table>\n",
              "<p>16669 rows × 4 columns</p>\n",
              "</div>"
            ],
            "text/plain": [
              "            id    rev  grp  payment\n",
              "0       581585    0.0    A        0\n",
              "1       581585    0.0    A        0\n",
              "2      5723133    0.0  NaN        0\n",
              "3      3276743    0.0    B        0\n",
              "4      3276743    0.0    B        0\n",
              "...        ...    ...  ...      ...\n",
              "16664  3598448    0.0    B        0\n",
              "16665  3610547  290.0    B        1\n",
              "16666  3610547  290.0    B        1\n",
              "16667   205705    0.0    B        0\n",
              "16668   205705    0.0    B        0\n",
              "\n",
              "[16669 rows x 4 columns]"
            ]
          },
          "execution_count": 44,
          "metadata": {},
          "output_type": "execute_result"
        }
      ],
      "source": [
        "active_total = active_checks.merge(groups_all, how = 'left', on = 'id')\n",
        "active_total['payment'] = active_total.rev.apply(lambda x : 0 if np.isnan(x) else 1)\n",
        "active_total.rev = active_total.rev.fillna(0)\n",
        "active_total"
      ]
    },
    {
      "cell_type": "code",
      "execution_count": null,
      "metadata": {
        "id": "kYZxnkxkqNWV",
        "outputId": "644022ce-a0b3-44a1-ef0c-ff709d7151d9"
      },
      "outputs": [
        {
          "data": {
            "text/html": [
              "<div>\n",
              "<style scoped>\n",
              "    .dataframe tbody tr th:only-of-type {\n",
              "        vertical-align: middle;\n",
              "    }\n",
              "\n",
              "    .dataframe tbody tr th {\n",
              "        vertical-align: top;\n",
              "    }\n",
              "\n",
              "    .dataframe thead th {\n",
              "        text-align: right;\n",
              "    }\n",
              "</style>\n",
              "<table border=\"1\" class=\"dataframe\">\n",
              "  <thead>\n",
              "    <tr style=\"text-align: right;\">\n",
              "      <th></th>\n",
              "      <th>id</th>\n",
              "      <th>rev</th>\n",
              "      <th>grp</th>\n",
              "      <th>payment</th>\n",
              "    </tr>\n",
              "  </thead>\n",
              "  <tbody>\n",
              "    <tr>\n",
              "      <th>123</th>\n",
              "      <td>1184303</td>\n",
              "      <td>1530.0000</td>\n",
              "      <td>A</td>\n",
              "      <td>1</td>\n",
              "    </tr>\n",
              "    <tr>\n",
              "      <th>124</th>\n",
              "      <td>1184303</td>\n",
              "      <td>1530.0000</td>\n",
              "      <td>A</td>\n",
              "      <td>1</td>\n",
              "    </tr>\n",
              "    <tr>\n",
              "      <th>133</th>\n",
              "      <td>3354191</td>\n",
              "      <td>1900.0001</td>\n",
              "      <td>B</td>\n",
              "      <td>1</td>\n",
              "    </tr>\n",
              "    <tr>\n",
              "      <th>134</th>\n",
              "      <td>3354191</td>\n",
              "      <td>1900.0001</td>\n",
              "      <td>B</td>\n",
              "      <td>1</td>\n",
              "    </tr>\n",
              "    <tr>\n",
              "      <th>153</th>\n",
              "      <td>3278734</td>\n",
              "      <td>1900.0000</td>\n",
              "      <td>B</td>\n",
              "      <td>1</td>\n",
              "    </tr>\n",
              "    <tr>\n",
              "      <th>...</th>\n",
              "      <td>...</td>\n",
              "      <td>...</td>\n",
              "      <td>...</td>\n",
              "      <td>...</td>\n",
              "    </tr>\n",
              "    <tr>\n",
              "      <th>16514</th>\n",
              "      <td>1516339</td>\n",
              "      <td>290.0000</td>\n",
              "      <td>A</td>\n",
              "      <td>1</td>\n",
              "    </tr>\n",
              "    <tr>\n",
              "      <th>16541</th>\n",
              "      <td>3910596</td>\n",
              "      <td>597.0000</td>\n",
              "      <td>B</td>\n",
              "      <td>1</td>\n",
              "    </tr>\n",
              "    <tr>\n",
              "      <th>16542</th>\n",
              "      <td>3910596</td>\n",
              "      <td>597.0000</td>\n",
              "      <td>B</td>\n",
              "      <td>1</td>\n",
              "    </tr>\n",
              "    <tr>\n",
              "      <th>16665</th>\n",
              "      <td>3610547</td>\n",
              "      <td>290.0000</td>\n",
              "      <td>B</td>\n",
              "      <td>1</td>\n",
              "    </tr>\n",
              "    <tr>\n",
              "      <th>16666</th>\n",
              "      <td>3610547</td>\n",
              "      <td>290.0000</td>\n",
              "      <td>B</td>\n",
              "      <td>1</td>\n",
              "    </tr>\n",
              "  </tbody>\n",
              "</table>\n",
              "<p>783 rows × 4 columns</p>\n",
              "</div>"
            ],
            "text/plain": [
              "            id        rev grp  payment\n",
              "123    1184303  1530.0000   A        1\n",
              "124    1184303  1530.0000   A        1\n",
              "133    3354191  1900.0001   B        1\n",
              "134    3354191  1900.0001   B        1\n",
              "153    3278734  1900.0000   B        1\n",
              "...        ...        ...  ..      ...\n",
              "16514  1516339   290.0000   A        1\n",
              "16541  3910596   597.0000   B        1\n",
              "16542  3910596   597.0000   B        1\n",
              "16665  3610547   290.0000   B        1\n",
              "16666  3610547   290.0000   B        1\n",
              "\n",
              "[783 rows x 4 columns]"
            ]
          },
          "execution_count": 45,
          "metadata": {},
          "output_type": "execute_result"
        }
      ],
      "source": [
        "active_total_paid = active_total.query(\"rev > 0\")\n",
        "active_total_paid"
      ]
    },
    {
      "cell_type": "code",
      "execution_count": null,
      "metadata": {
        "id": "YaCV62_UqNWV",
        "outputId": "5c1806bc-05c3-4c70-be80-2b86816880a6"
      },
      "outputs": [
        {
          "data": {
            "text/plain": [
              "<Axes: >"
            ]
          },
          "execution_count": 46,
          "metadata": {},
          "output_type": "execute_result"
        },
        {
          "data": {
            "image/png": "[encoded data removed]",
            "text/plain": [
              "<Figure size 640x480 with 1 Axes>"
            ]
          },
          "metadata": {},
          "output_type": "display_data"
        }
      ],
      "source": [
        "active_total.query(\"grp == 'A'\").rev.hist()"
      ]
    },
    {
      "cell_type": "code",
      "execution_count": null,
      "metadata": {
        "id": "qcHzqWBiqNWV",
        "outputId": "340435e5-cc30-4846-954d-caaa785a6ef0"
      },
      "outputs": [
        {
          "data": {
            "text/plain": [
              "<Axes: >"
            ]
          },
          "execution_count": 47,
          "metadata": {},
          "output_type": "execute_result"
        },
        {
          "data": {
            "image/png": "[encoded data removed]",
            "text/plain": [
              "<Figure size 640x480 with 1 Axes>"
            ]
          },
          "metadata": {},
          "output_type": "display_data"
        }
      ],
      "source": [
        "active_total.query(\"grp == 'B'\").rev.hist()"
      ]
    },
    {
      "cell_type": "code",
      "execution_count": null,
      "metadata": {
        "id": "91KDNZ4pqNWV",
        "outputId": "77341081-07c9-4715-a55a-5ebe7b5cb093"
      },
      "outputs": [
        {
          "data": {
            "text/plain": [
              "<Axes: >"
            ]
          },
          "execution_count": 48,
          "metadata": {},
          "output_type": "execute_result"
        },
        {
          "data": {
            "image/png": "[encoded data removed]",
            "text/plain": [
              "<Figure size 640x480 with 1 Axes>"
            ]
          },
          "metadata": {},
          "output_type": "display_data"
        }
      ],
      "source": [
        "active_total_paid.query(\"grp == 'A'\").rev.hist()"
      ]
    },
    {
      "cell_type": "code",
      "execution_count": null,
      "metadata": {
        "id": "_HZabJb5qNWV",
        "outputId": "b1e11574-77a0-43db-f08c-ac4dd3c86bda"
      },
      "outputs": [
        {
          "data": {
            "text/plain": [
              "<Axes: >"
            ]
          },
          "execution_count": 49,
          "metadata": {},
          "output_type": "execute_result"
        },
        {
          "data": {
            "image/png": "[encoded data removed]",
            "text/plain": [
              "<Figure size 640x480 with 1 Axes>"
            ]
          },
          "metadata": {},
          "output_type": "display_data"
        }
      ],
      "source": [
        "active_total_paid.query(\"grp == 'B'\").rev.hist()"
      ]
    },
    {
      "cell_type": "markdown",
      "metadata": {
        "id": "Q8Hvy3FDqNWW"
      },
      "source": [
        "Видим неравномерное распределение, посмотрим на выбросы с помощью боксплот"
      ]
    },
    {
      "cell_type": "code",
      "execution_count": null,
      "metadata": {
        "id": "G7HXUPlbqNWW",
        "outputId": "4189ae93-3cf3-4b36-cb05-c3760c4825c3"
      },
      "outputs": [
        {
          "data": {
            "text/plain": [
              "<Axes: xlabel='grp', ylabel='rev'>"
            ]
          },
          "execution_count": 50,
          "metadata": {},
          "output_type": "execute_result"
        },
        {
          "data": {
            "image/png": "[encoded data removed]",
            "text/plain": [
              "<Figure size 1100x800 with 1 Axes>"
            ]
          },
          "metadata": {},
          "output_type": "display_data"
        }
      ],
      "source": [
        "sns.set(rc={'figure.figsize' : (11, 8)}, style=\"whitegrid\", palette=\"Set2\") #установлю размеры и стиль\n",
        "sns.boxplot(data = active_total, x = 'grp', y = 'rev')"
      ]
    },
    {
      "cell_type": "code",
      "execution_count": null,
      "metadata": {
        "id": "gFM6zz6JqNWW",
        "outputId": "dce116cb-a373-4862-fa0e-15782e77de37"
      },
      "outputs": [
        {
          "data": {
            "text/plain": [
              "<Axes: xlabel='grp', ylabel='rev'>"
            ]
          },
          "execution_count": 51,
          "metadata": {},
          "output_type": "execute_result"
        },
        {
          "data": {
            "image/png": "[encoded data removed]",
            "text/plain": [
              "<Figure size 1100x800 with 1 Axes>"
            ]
          },
          "metadata": {},
          "output_type": "display_data"
        }
      ],
      "source": [
        "sns.boxplot(data = active_total_paid, x = 'grp', y = 'rev')"
      ]
    },
    {
      "cell_type": "markdown",
      "metadata": {
        "id": "xhAiKt6nqNWW"
      },
      "source": [
        "Из боксплот мы видим, что в наших данных есть выбросы, распределения оплат выглядят не равномерными, не унимодальными.\\\n",
        "\n",
        "В нашем случае, где присутствует оплата и проверяется новая механика оплаты, будет неправильным удалять выбросы, так как мы можем удалить из анализа клиентов с большими суммами оплат.\n",
        "\n",
        "Так же из-за выбросов сравнение средних в наших выборках будет некорректно. Значит, применение Т-критерия, который сравнивает средние в распределениях, а выбросы сильно влияют на значение среднего, будет неправильным."
      ]
    },
    {
      "cell_type": "markdown",
      "metadata": {
        "id": "bDhipk8gqNWW"
      },
      "source": [
        "#### Сформулирю предварительную гипотезу"
      ]
    },
    {
      "cell_type": "markdown",
      "metadata": {
        "id": "6hdIEkQHqNWW"
      },
      "source": [
        "* H0 - Новая механика оплаты услуг на сайте в группе B не отличается от базовой механики котрольной группы A.\n",
        "* H1 - Новая механика оплаты услуг на сайте в группе B имеет значимые различия в сравнении с базовой механикой в группе A."
      ]
    },
    {
      "cell_type": "markdown",
      "metadata": {
        "id": "yoKvxEIZqNWW"
      },
      "source": [
        "#### Выберу метрики"
      ]
    },
    {
      "cell_type": "markdown",
      "metadata": {
        "id": "Q_htiFNDqNWW"
      },
      "source": [
        "Так как у нас есть две категориальные переменные - принадлежность к группе и факт оплаты (1 или 0)-  следует проверить коэффициент конверсии в целевое действие, а конкретно в оплату услуги на сайте (CR). Также проверим степень воздействия новой механики оплаты на среднее значение суммы оплаты (ARPPU). Ещё посчитаю ARPU вместе с ARPPU для просмотра степени воздействия на всех активных пользователей. \\\n",
        "Таким образом:\n",
        "\n",
        "* CR в оплату (сonversion rate) — отношение количества платящих пользователей к общему количеству пользователей.\\\n",
        "Переход в оплату услуги. CR будет выше в том варианте, где пользователю проще проивзести оплату.\n",
        "\n",
        "* ARPU - отношение всей выручки на количество активных пользователей.\n",
        "\n",
        "* ARPPU - отношение выручки на количество активных оплативших пользователей."
      ]
    },
    {
      "cell_type": "code",
      "execution_count": null,
      "metadata": {
        "id": "rnf4ohsfqNWW",
        "outputId": "7aea10cb-2b55-4980-d300-bc1cf79c6cd4"
      },
      "outputs": [
        {
          "data": {
            "text/html": [
              "<div>\n",
              "<style scoped>\n",
              "    .dataframe tbody tr th:only-of-type {\n",
              "        vertical-align: middle;\n",
              "    }\n",
              "\n",
              "    .dataframe tbody tr th {\n",
              "        vertical-align: top;\n",
              "    }\n",
              "\n",
              "    .dataframe thead th {\n",
              "        text-align: right;\n",
              "    }\n",
              "</style>\n",
              "<table border=\"1\" class=\"dataframe\">\n",
              "  <thead>\n",
              "    <tr style=\"text-align: right;\">\n",
              "      <th></th>\n",
              "      <th>grp</th>\n",
              "      <th>students</th>\n",
              "      <th>paying_students</th>\n",
              "      <th>repeat_purchases</th>\n",
              "      <th>average_check</th>\n",
              "      <th>CR</th>\n",
              "      <th>ARPPU</th>\n",
              "      <th>ARPU</th>\n",
              "    </tr>\n",
              "  </thead>\n",
              "  <tbody>\n",
              "    <tr>\n",
              "      <th>0</th>\n",
              "      <td>A</td>\n",
              "      <td>3070</td>\n",
              "      <td>156</td>\n",
              "      <td>1.0</td>\n",
              "      <td>933.59</td>\n",
              "      <td>5.08</td>\n",
              "      <td>933.59</td>\n",
              "      <td>4742.64</td>\n",
              "    </tr>\n",
              "    <tr>\n",
              "      <th>1</th>\n",
              "      <td>B</td>\n",
              "      <td>13586</td>\n",
              "      <td>626</td>\n",
              "      <td>1.0</td>\n",
              "      <td>1255.83</td>\n",
              "      <td>4.61</td>\n",
              "      <td>1255.83</td>\n",
              "      <td>5789.38</td>\n",
              "    </tr>\n",
              "  </tbody>\n",
              "</table>\n",
              "</div>"
            ],
            "text/plain": [
              "  grp  students  paying_students  repeat_purchases  average_check    CR  \\\n",
              "0   A      3070              156               1.0         933.59  5.08   \n",
              "1   B     13586              626               1.0        1255.83  4.61   \n",
              "\n",
              "     ARPPU     ARPU  \n",
              "0   933.59  4742.64  \n",
              "1  1255.83  5789.38  "
            ]
          },
          "execution_count": 52,
          "metadata": {},
          "output_type": "execute_result"
        }
      ],
      "source": [
        "metrics = pd.DataFrame()\n",
        "metrics['students'] = active_total.groupby(\"grp\").id.count()\n",
        "metrics['paying_students'] = active_total.query(\"payment == 1\").groupby(\"grp\").id.count()\n",
        "metrics['repeat_purchases'] = active_total.groupby('grp').rev.count() / active_total.query('rev.notna()')\\\n",
        "                                          .groupby('grp').rev.count()\n",
        "metrics['average_check'] = active_total.query(\"payment == 1\").groupby('grp').rev.mean().round(2)\n",
        "metrics['CR'] = (active_total.query(\"payment == 1\").groupby('grp')['payment'].count() / \\\n",
        "                 active_total.groupby('grp')['payment'].count()).mul(100).round(2)\n",
        "metrics['ARPPU'] = (active_total.groupby(\"grp\").rev.sum() / \\\n",
        "                   active_total.query(\"payment == 1\").groupby(\"grp\").payment.count()).round(2)\n",
        "metrics['ARPU'] = round(metrics['CR'] * metrics['ARPPU'], 2)\n",
        "\n",
        "metrics.reset_index(inplace = True)\n",
        "metrics"
      ]
    },
    {
      "cell_type": "markdown",
      "metadata": {
        "id": "3Rt08sfWqNWX"
      },
      "source": [
        "#### Имеются ли различия в показателях и с чем они могут быть связаны?\n",
        "* Опять же видим, как пользователи распределены по группам неравномерно. Группа B значительно больше, чем группа А.\n",
        "* Наблюдаем небольшой отрицательный эффект CR (конверсия в покупку у группы А больше, чем у группы В), и положительные эффекты в ARPU и ARPPU. То есть, конверсия падает, но доход на пользователя/покупателя растёт. Такое может происходить, если пользователь попадает на сайт и начинает осуществлять ряд целевых действий. Конечный этап заключается в оплате услуги. До момента перехода пользователя на этап оплаты, новая механика оплаты не оказывает на него влияния, либо как в нашем случае конверсия перехода в оплату упал на 0.45 пунктов. Но когда пользователь совершил целевое действие и перешел на следующий этап (хочет оплатить услугу), то новая механика начинает работать. Причем в данном случае положительно, так как средний чек увеличился. Но этого не додостаточно, и отрицательные и положительные различия в показателях требуют статистических подтверждений.\n",
        "* ARPPU ожидаемо равна среднему чеку, так как на каждого совершившего оплату пользователя приходится по одной покупке (повторных покупок не было)."
      ]
    },
    {
      "cell_type": "markdown",
      "metadata": {
        "id": "nRLl_8o2qNWX"
      },
      "source": [
        "#### Являются ли эти различия статистически значимыми?\n",
        "Для проверки стат значимости различий я выберу bootstrap, так как нет объективных причин НЕ использовать его. Объем данных ползволяет, размеры групп очень сильно отличаются, поэтому классические тесты могут давать большие погрешности. В таких случаях идеально подходит bootstrap. Гавным критерием будет, чтобы доверительный интервал не включал в себя 0\n",
        "\n",
        "* Строим bootstrap распределения для групп А и B.\n",
        "* Вычислим их разницу.\n",
        "* В получившемся рапределении разницы находим доверительных интервал.\n",
        "* Проверяем, попадает ли доверительный интервал в 0. Если да, то нулевая гипотеза на данном уровне значимости принимается, если нет - отвергается."
      ]
    },
    {
      "cell_type": "markdown",
      "metadata": {
        "id": "JBTJ2KM_qNWX"
      },
      "source": [
        "Напишем функцию, которая позволит проверять гипотезы с помощью bootstrap:"
      ]
    },
    {
      "cell_type": "code",
      "execution_count": null,
      "metadata": {
        "id": "0BWGzTLkqNWX"
      },
      "outputs": [],
      "source": [
        "# функция для проверки гипотез с помощью бутстрапа\n",
        "def get_bootstrap(\n",
        "    data_column_1,                       # числовые значения первой (контрольной) выборки\n",
        "    data_column_2,                       # числовые значения второй (тестовой) выборки\n",
        "    boot_it   = 1000,                    # количество бутстрэп-подвыборок\n",
        "    statistic = np.mean,                 # интересующая нас статистика\n",
        "    bootstrap_conf_level = 0.95,         # уровень значимости\n",
        "    graph         = True,                # отрисовывать ли график\n",
        "    show_progress = True                 # показывать ли индикатор програсса\n",
        "    ):\n",
        "    boot_len  = max([len(data_column_1), len(data_column_2)])\n",
        "    boot_data = []\n",
        "\n",
        "    # выбираем отрисовывать индикатора програсса или нет\n",
        "    if show_progress:\n",
        "        progress_bar = tqdm\n",
        "    else:\n",
        "        progress_bar = lambda x: x\n",
        "\n",
        "    for i in progress_bar(range(boot_it)):        # извлекаем подвыборки\n",
        "        samples_1 = data_column_1.sample(\n",
        "            boot_len,\n",
        "            replace = True                        # параметр возвращения\n",
        "        ).values\n",
        "\n",
        "        samples_2 = data_column_2.sample(\n",
        "            boot_len,\n",
        "            replace = True\n",
        "        ).values\n",
        "\n",
        "        samples_delta = samples_2 - samples_1      # находим разницу подвыборок\n",
        "        boot_data.append(statistic(samples_delta)) # применяем статистику для разниц подвыборок\n",
        "\n",
        "    pd_boot_data = pd.DataFrame(boot_data)\n",
        "\n",
        "    # доверительный интервал\n",
        "    left_quant  = (1 - bootstrap_conf_level)/2\n",
        "    right_quant = 1 - (1 - bootstrap_conf_level) / 2\n",
        "    ci = pd_boot_data.quantile([left_quant, right_quant])\n",
        "\n",
        "    p_1 = norm.cdf(\n",
        "        x     = 0,\n",
        "        loc   = np.mean(boot_data),\n",
        "        scale = np.std(boot_data)\n",
        "    )\n",
        "    p_2 = norm.cdf(\n",
        "        x     = 0,\n",
        "        loc   = -np.mean(boot_data),\n",
        "        scale = np.std(boot_data)\n",
        "    )\n",
        "    p_value = min(p_1, p_2) * 2\n",
        "\n",
        "    # отисовка графиков\n",
        "    if graph == True:\n",
        "        plt.hist(pd_boot_data[0], bins = 50)\n",
        "        plt.style.use('ggplot')\n",
        "        plt.vlines(ci, ymin=0, ymax=50, linestyle='--')\n",
        "        plt.xlabel('boot_data')\n",
        "        plt.ylabel('frequency')\n",
        "        plt.title(\"Histogram of boot_data\")\n",
        "        plt.show()\n",
        "\n",
        "    return {\"ci\": ci,\n",
        "            \"p_value\": p_value}"
      ]
    },
    {
      "cell_type": "markdown",
      "metadata": {
        "id": "mL4TScJeqNWX"
      },
      "source": [
        "Определим функции для метрик. \\\n",
        "Для CR в качестве аргумента нужно будет передавать серию о факте оплаты со значениями  1 и 0, или True и False. В функции ARPPU нужно будет передавать серию, где отобраны только платежи."
      ]
    },
    {
      "cell_type": "code",
      "execution_count": null,
      "metadata": {
        "id": "SE6d9_Q3qNWX"
      },
      "outputs": [],
      "source": [
        "def cr_func(x):\n",
        "    '''\n",
        "    CR\n",
        "    Для корректной работы функции в качестве аргумента y\n",
        "    необходимо передать серию со значениями 1 и 0, или True и False,\n",
        "    в соответствие с тем произошло ожидаемое событие или нет.\n",
        "    '''\n",
        "    return sum(x) / len(x)\n",
        "\n",
        "def arpu_func(y):\n",
        "    '''\n",
        "    ARPU\n",
        "    Для корректной работы функции в качестве аргумента y\n",
        "    необходимо передать серию, где все NaN-значения заменнены на нули\n",
        "    '''\n",
        "    return np.mean(y)\n",
        "\n",
        "def arppu_func(y):\n",
        "    '''\n",
        "    ARPPU\n",
        "    Для корректной работы функции в качестве аргумента y\n",
        "    необходимо передать серию, где отобраны только платежи, т.е. отфильтрованы нули\n",
        "    или вместо нулей стоят NaN.\n",
        "    '''\n",
        "    return np.mean(y)"
      ]
    },
    {
      "cell_type": "markdown",
      "metadata": {
        "id": "66fUl5GrqNWX"
      },
      "source": [
        "**Бутстрап по CR** \\\n",
        "Гипотеза:\\\n",
        "Н0: Конверсия в оплату в двух группах не отличается \\\n",
        "Н1: Конверсия в оплату в двух группах отличается"
      ]
    },
    {
      "cell_type": "code",
      "execution_count": null,
      "metadata": {
        "colab": {
          "referenced_widgets": [
            "61c4998ef7834006964e650f342dc036"
          ]
        },
        "id": "UuaLwB9hqNWX",
        "outputId": "f31213ac-5ad2-42c5-d9a8-c8123d01b57a"
      },
      "outputs": [
        {
          "data": {
            "application/vnd.jupyter.widget-view+json": {
              "model_id": "61c4998ef7834006964e650f342dc036",
              "version_major": 2,
              "version_minor": 0
            },
            "text/plain": [
              "  0%|          | 0/1000 [00:00<?, ?it/s]"
            ]
          },
          "metadata": {},
          "output_type": "display_data"
        },
        {
          "data": {
            "image/png": "[encoded data removed]",
            "text/plain": [
              "<Figure size 1100x800 with 1 Axes>"
            ]
          },
          "metadata": {},
          "output_type": "display_data"
        }
      ],
      "source": [
        "cr_boot = get_bootstrap(data_column_1 = active_total.query('grp == \"A\"').payment,\n",
        "                        data_column_2 = active_total.query('grp == \"B\"').payment,\n",
        "                        statistic = cr_func)"
      ]
    },
    {
      "cell_type": "markdown",
      "metadata": {
        "id": "kvZJlcXsqNWX"
      },
      "source": [
        "Группы всё-таки не отличаются друг от друга. Это видно по доверительному интервалу, который попадает в 0. Недостаточно оснований отвергнуть нулевую гипотезу. Нельзя утверждать, что различия CR в двух группах есть."
      ]
    },
    {
      "cell_type": "markdown",
      "metadata": {
        "id": "mTK4ntlMqNWX"
      },
      "source": [
        "**Бутстрап по ARPU**\\\n",
        "Гипотеза:\\\n",
        "Н0: ARPU в двух группах не отличается \\\n",
        "Н1: ARPU в двух группах отличается"
      ]
    },
    {
      "cell_type": "code",
      "execution_count": null,
      "metadata": {
        "colab": {
          "referenced_widgets": [
            "26fbd73705314349b3e07c26e9e0d99d"
          ]
        },
        "id": "nFuVnVXiqNWX",
        "outputId": "7884e7cb-96d4-4c04-f86e-3f3ea06245bd"
      },
      "outputs": [
        {
          "data": {
            "application/vnd.jupyter.widget-view+json": {
              "model_id": "26fbd73705314349b3e07c26e9e0d99d",
              "version_major": 2,
              "version_minor": 0
            },
            "text/plain": [
              "  0%|          | 0/1000 [00:00<?, ?it/s]"
            ]
          },
          "metadata": {},
          "output_type": "display_data"
        },
        {
          "data": {
            "image/png": "[encoded data removed]",
            "text/plain": [
              "<Figure size 1100x800 with 1 Axes>"
            ]
          },
          "metadata": {},
          "output_type": "display_data"
        }
      ],
      "source": [
        "arpu_boot = get_bootstrap(data_column_1 = active_total.query('grp == \"A\"').rev,\n",
        "                        data_column_2 = active_total.query('grp == \"B\"').rev,\n",
        "                        statistic = arpu_func)"
      ]
    },
    {
      "cell_type": "markdown",
      "metadata": {
        "id": "OefdB7ALqNWX"
      },
      "source": [
        "**Вывод по бутстрапу по ARPU**:\\\n",
        "0 не попадает в доверительный интервал. Отвергаем нулевую гипотезу. ARPU в двух группах различаются."
      ]
    },
    {
      "cell_type": "markdown",
      "metadata": {
        "id": "JG2HndCyqNWX"
      },
      "source": [
        "**Бутстрап ARPPU**\\\n",
        "Гипотеза:\\\n",
        "Н0: ARPPU в двух группах не отличается \\\n",
        "Н1: ARPPU в двух группах отличается"
      ]
    },
    {
      "cell_type": "code",
      "execution_count": null,
      "metadata": {
        "colab": {
          "referenced_widgets": [
            "610e6b1855f846afada67ec4d4be7fed"
          ]
        },
        "id": "aQe-ZFPgqNWX",
        "outputId": "a66514fa-08d8-4fda-f794-73c8a38dcc54"
      },
      "outputs": [
        {
          "data": {
            "application/vnd.jupyter.widget-view+json": {
              "model_id": "610e6b1855f846afada67ec4d4be7fed",
              "version_major": 2,
              "version_minor": 0
            },
            "text/plain": [
              "  0%|          | 0/1000 [00:00<?, ?it/s]"
            ]
          },
          "metadata": {},
          "output_type": "display_data"
        },
        {
          "data": {
            "image/png": "[encoded data removed]",
            "text/plain": [
              "<Figure size 1100x800 with 1 Axes>"
            ]
          },
          "metadata": {},
          "output_type": "display_data"
        }
      ],
      "source": [
        "arppu_boot = get_bootstrap(data_column_1 = active_total.query('grp == \"A\"').rev,\n",
        "                        data_column_2 = active_total.query('grp == \"B\"').rev,\n",
        "                        statistic = arppu_func)"
      ]
    },
    {
      "cell_type": "markdown",
      "metadata": {
        "id": "gTzBGBt5qNWX"
      },
      "source": [
        "**Вывод по бутстрапу по ARPPU**:\\\n",
        "Доверительный интервал не включает в себя 0. Отвергаем нулевую гипотезу. ARPPU в двух группах различаются. Очень малое количество наблюдений из двух выборок пересекаются между собой."
      ]
    },
    {
      "cell_type": "markdown",
      "metadata": {
        "id": "BWojEHloqNWY"
      },
      "source": [
        "#### Стоит ли запускать новую механику на всех пользователей?\n",
        "Напомним основные гипотезы:\n",
        "* H0 - Новая механика оплаты услуг на сайте в группе B не отличается от старой механики, оставленной в группе A.\n",
        "* H1 - Новая механика оплаты услуг на сайте в группе B имеет значимые различия в сравнении с механикой в группе A. \\"
      ]
    },
    {
      "cell_type": "markdown",
      "metadata": {
        "id": "9n3uofinqNWY"
      },
      "source": [
        "Напомним выводы по тестам:\n",
        "* Бутстрап по CR показал pvalue > 0.05. Это не дало нам основания отвергнуть нулевую гипотезу.\n",
        "* Бутстрап по ARPU показал pvalue < 0.05. Есть основания отвергнуть нулевую гипотезу.\n",
        "* Бутстрап по ARPPU показал pvalue < 0.05. Это дает нам основания отвергнуть нулевую гипотезу."
      ]
    },
    {
      "cell_type": "markdown",
      "metadata": {
        "id": "4tLKmyakqNWY"
      },
      "source": [
        "Таким образом, согласно проведенным тестам  новая механика оплаты даёт статистически значимый прирост в метриках ARPU и ARPPU. Имеет смысл применить новую механику оплаты услуг на всех пользователей. При этом в дальнейшем следить за метриками. Особенно за коэффициентом конверсии перехода к оплате. \\\n",
        "Однако стоит еще отметить, что так как система сплитования делит пользователей на группы неравномерно, в результате мы тестируем изменения на 85% наших активных пользователей. В будущем неудачный эксперимент в таком объеме может привести к значительному падению выручки.\\\n",
        "В идеале нужно было выделить больше пользователей для группы А, потому что из-за малого количества уникальных пользователей в группе А мы можем столкнуться с ситуацией, когда тесты показали статистически значимые различия, а в генеральной совокупности эти различий может не оказаться, либо различия будут в пользу базовой механики оплаты услуг на сайте."
      ]
    },
    {
      "cell_type": "code",
      "execution_count": null,
      "metadata": {
        "id": "QwgdrsidqNWY"
      },
      "outputs": [],
      "source": []
    },
    {
      "cell_type": "code",
      "execution_count": null,
      "metadata": {
        "id": "SP1SfVL5qNWY"
      },
      "outputs": [],
      "source": []
    }
  ],
  "metadata": {
    "kernelspec": {
      "display_name": "Python 3 (ipykernel)",
      "language": "python",
      "name": "python3"
    },
    "language_info": {
      "codemirror_mode": {
        "name": "ipython",
        "version": 3
      },
      "file_extension": ".py",
      "mimetype": "text/x-python",
      "name": "python",
      "nbconvert_exporter": "python",
      "pygments_lexer": "ipython3",
      "version": "3.11.7"
    },
    "colab": {
      "provenance": [],
      "include_colab_link": true
    }
  },
  "nbformat": 4,
  "nbformat_minor": 0
}